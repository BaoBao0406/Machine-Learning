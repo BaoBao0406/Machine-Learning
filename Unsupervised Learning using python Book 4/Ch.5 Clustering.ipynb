{
 "cells": [
  {
   "cell_type": "code",
   "execution_count": 1,
   "metadata": {},
   "outputs": [],
   "source": [
    "'main'\n",
    "import numpy as np\n",
    "import pandas as pd\n",
    "import os, time\n",
    "import pickle, gzip\n",
    "import warnings\n",
    "warnings.simplefilter(action='ignore', category=FutureWarning)"
   ]
  },
  {
   "cell_type": "code",
   "execution_count": 2,
   "metadata": {},
   "outputs": [],
   "source": [
    "'Data Visualization'\n",
    "import matplotlib.pyplot as plt\n",
    "import seaborn as sns\n",
    "color = sns.color_palette()\n",
    "import matplotlib as mpl\n",
    "%matplotlib inline"
   ]
  },
  {
   "cell_type": "code",
   "execution_count": 3,
   "metadata": {},
   "outputs": [],
   "source": [
    "'Data Prep and Model Evaluation'\n",
    "from sklearn import preprocessing as pp\n",
    "from sklearn.model_selection import train_test_split\n",
    "from sklearn.metrics import precision_recall_curve, average_precision_score\n",
    "from sklearn.metrics import roc_curve, auc, roc_auc_score"
   ]
  },
  {
   "cell_type": "code",
   "execution_count": 4,
   "metadata": {},
   "outputs": [],
   "source": [
    "file = 'D:\\\\Python\\\\Machine Learning\\\\Unsupervised Learning using python Book 4\\\\datasets\\\\mnist.pkl.gz'"
   ]
  },
  {
   "cell_type": "code",
   "execution_count": 5,
   "metadata": {},
   "outputs": [],
   "source": [
    "f = gzip.open(file, 'rb')\n",
    "train_set, validation_set, test_set = pickle.load(f, encoding='latin1')\n",
    "f.close()"
   ]
  },
  {
   "cell_type": "code",
   "execution_count": 6,
   "metadata": {},
   "outputs": [],
   "source": [
    "# Split X and y value\n",
    "X_train, y_train = train_set[0], train_set[1]\n",
    "X_validation, y_validation = validation_set[0], validation_set[1]\n",
    "X_test, y_test = test_set[0], test_set[1]"
   ]
  },
  {
   "cell_type": "code",
   "execution_count": 7,
   "metadata": {},
   "outputs": [],
   "source": [
    "train_index = range(0, len(X_train))\n",
    "validation_index = range(len(X_train), len(X_train) + len(X_validation))\n",
    "test_index = range(len(X_train) + len(X_validation), len(X_train) + len(X_validation) + len(X_test))"
   ]
  },
  {
   "cell_type": "code",
   "execution_count": 8,
   "metadata": {},
   "outputs": [],
   "source": [
    "X_train = pd.DataFrame(data=X_train, index=train_index)\n",
    "y_train = pd.DataFrame(data=y_train, index=train_index)\n",
    "\n",
    "X_validation = pd.DataFrame(data=X_validation, index=validation_index)\n",
    "y_validation = pd.DataFrame(data=y_validation, index=validation_index)\n",
    "\n",
    "X_test = pd.DataFrame(data=X_test, index=test_index)\n",
    "y_test = pd.DataFrame(data=y_test, index=test_index)"
   ]
  },
  {
   "cell_type": "markdown",
   "metadata": {},
   "source": [
    "# PCA"
   ]
  },
  {
   "cell_type": "code",
   "execution_count": 9,
   "metadata": {},
   "outputs": [],
   "source": [
    "from sklearn.decomposition import PCA\n",
    "\n",
    "n_components = 784\n",
    "whiten = False\n",
    "random_state = 2018\n",
    "\n",
    "pca = PCA(n_components=n_components, whiten=whiten, random_state=random_state)\n",
    "\n",
    "X_train_PCA = pca.fit_transform(X_train)\n",
    "X_train_PCA = pd.DataFrame(data=X_train_PCA, index=train_index)"
   ]
  },
  {
   "cell_type": "markdown",
   "metadata": {},
   "source": [
    "# k-Means"
   ]
  },
  {
   "cell_type": "code",
   "execution_count": 10,
   "metadata": {},
   "outputs": [],
   "source": [
    "from sklearn.cluster import KMeans\n",
    "\n",
    "n_cluster = 10\n",
    "n_init = 10\n",
    "max_iter = 300\n",
    "tol = 0.0001\n",
    "random_state = 2018\n",
    "n_jobs = 2\n",
    "\n",
    "kMeans_inertia = pd.DataFrame(data=[], index=range(2, 21), columns=['inertia'])\n",
    "\n",
    "for n_clusters in range(2, 21):\n",
    "    kmeans = KMeans(n_clusters=n_clusters, n_init=n_init, max_iter=max_iter, tol=tol, random_state=random_state, n_jobs=n_jobs)\n",
    "    \n",
    "    cutoff = 99\n",
    "    kmeans.fit(X_train_PCA.loc[:, 0:cutoff])\n",
    "    kMeans_inertia.loc[n_clusters] = kmeans.inertia_"
   ]
  },
  {
   "cell_type": "code",
   "execution_count": 11,
   "metadata": {},
   "outputs": [],
   "source": [
    "def analyzeCluster(clusterDF, labelsDF):\n",
    "    countByCluster = pd.DataFrame(data=clusterDF['cluster'].value_counts())\n",
    "    countByCluster.reset_index(inplace=True, drop=False)\n",
    "    countByCluster.columns = ['cluster', 'clusterCount']\n",
    "    \n",
    "    preds = pd.concat([labelsDF, clusterDF], axis=1)\n",
    "    preds.columns = ['trueLabel', 'cluster']\n",
    "    \n",
    "    countByLabel = pd.DataFrame(data=preds.groupby('trueLabel').count())\n",
    "    \n",
    "    countMostFreq = pd.DataFrame(data=preds.groupby('cluster').agg(lambda x:x.value_counts().iloc[0]))\n",
    "    countMostFreq.reset_index(inplace=True,drop=False)\n",
    "    countMostFreq.columns = ['cluster', 'countMostFrequent']\n",
    "    \n",
    "    accuracyDF = countMostFreq.merge(countByCluster, left_on='cluster', right_on='cluster')\n",
    "    overallAccuracy = accuracyDF.countMostFrequent.sum() / accuracyDF.clusterCount.sum()\n",
    "    \n",
    "    accuracyByLabel = accuracyDF.countMostFrequent / accuracyDF.clusterCount\n",
    "    \n",
    "    return countByCluster, countByLabel, countMostFreq, accuracyDF, overallAccuracy, accuracyByLabel"
   ]
  },
  {
   "cell_type": "markdown",
   "metadata": {},
   "source": [
    "## k-Means accuracy"
   ]
  },
  {
   "cell_type": "code",
   "execution_count": 12,
   "metadata": {},
   "outputs": [],
   "source": [
    "n_clusters = 5\n",
    "n_init = 10\n",
    "max_iter = 300\n",
    "tol = 0.0001\n",
    "random_state = 2018\n",
    "n_jobs = 2\n",
    "\n",
    "kMeans_inertia = pd.DataFrame(data=[], index=range(2, 21), columns=['inertia'])\n",
    "overallAccuracy_kMeansDF = pd.DataFrame(data=[], index=range(2, 21), columns=['overallAccuracy'])\n",
    "\n",
    "for n_clusters in range(2, 21):\n",
    "    kmeans = KMeans(n_clusters=n_clusters, n_init=n_init, max_iter=max_iter, tol=tol, random_state=random_state, n_jobs=n_jobs)\n",
    "    \n",
    "    cutoff = 99\n",
    "    kmeans.fit(X_train_PCA.loc[:, 0:cutoff])\n",
    "    kMeans_inertia.loc[n_clusters] = kmeans.inertia_\n",
    "    \n",
    "    X_train_kmeansClustered = kmeans.predict(X_train_PCA.loc[:, 0:cutoff])\n",
    "    X_train_kmeansClustered = pd.DataFrame(data=X_train_kmeansClustered, index=X_train.index, columns=['cluster'])\n",
    "    \n",
    "    countByCluster_kMeans, countByLabel_kMeans, countMostFreq_kMeans, accuracyDF_kMeans, overallAccuracy_kMeans, \\\n",
    "    accuracyByLabel_kMeans = analyzeCluster(X_train_kmeansClustered, y_train)\n",
    "    \n",
    "    overallAccuracy_kMeansDF.loc[n_clusters] = overallAccuracy_kMeans\n"
   ]
  },
  {
   "cell_type": "code",
   "execution_count": 13,
   "metadata": {},
   "outputs": [
    {
     "data": {
      "text/plain": [
       "<matplotlib.axes._subplots.AxesSubplot at 0x1f28252f978>"
      ]
     },
     "execution_count": 13,
     "metadata": {},
     "output_type": "execute_result"
    },
    {
     "data": {
      "image/png": "[encoded data removed]",
      "text/plain": [
       "<Figure size 432x288 with 1 Axes>"
      ]
     },
     "metadata": {
      "needs_background": "light"
     },
     "output_type": "display_data"
    }
   ],
   "source": [
    "overallAccuracy_kMeansDF.plot()"
   ]
  },
  {
   "cell_type": "markdown",
   "metadata": {},
   "source": [
    "## k-Means and PCA"
   ]
  },
  {
   "cell_type": "code",
   "execution_count": 14,
   "metadata": {},
   "outputs": [],
   "source": [
    "n_clusters = 20\n",
    "n_init = 10\n",
    "max_iter = 300\n",
    "tol = 0.0001\n",
    "random_state = 2018\n",
    "n_jobs = 2\n",
    "\n",
    "kMeans_inertia = pd.DataFrame(data=[], index=[9, 49, 99, 199, 299, 399, 499, 599, 699, 784], columns=['inertia'])\n",
    "\n",
    "overallAccuracy_kMeansDF = pd.DataFrame(data=[], index=[9, 49, 99, 199, 299, 399, 499, 599, 699, 784], columns=['overallAccuracy'])\n",
    "\n",
    "for cutoffNumber in [9, 49, 99, 199, 299, 399, 499, 599, 699, 784]:\n",
    "    kmeans = KMeans(n_clusters=n_clusters, n_init=n_init, max_iter=max_iter, tol=tol, random_state=random_state, n_jobs=n_jobs)\n",
    "    \n",
    "    cutoff = cutoffNumber\n",
    "    \n",
    "    kmeans.fit(X_train_PCA.loc[:, 0:cutoff])\n",
    "    kMeans_inertia.loc[cutoff] = kmeans.inertia_\n",
    "    X_train_kmeansClustered = kmeans.predict(X_train_PCA.loc[:, 0:cutoff])\n",
    "    X_train_kmeansClustered = pd.DataFrame(data=X_train_kmeansClustered, index=X_train.index, columns=['cluster'])\n",
    "    \n",
    "    countByCluster_kMeans, countByLabel_kMeans, countMostFreq_kMeans, accuracyDF_kMeans, overallAccuracy_kMeans, \\\n",
    "    accuracyByLabel_kMeans = analyzeCluster(X_train_kmeansClustered, y_train)\n",
    "    \n",
    "    overallAccuracy_kMeansDF.loc[cutoff] = overallAccuracy_kMeans"
   ]
  },
  {
   "cell_type": "code",
   "execution_count": 15,
   "metadata": {},
   "outputs": [
    {
     "data": {
      "text/plain": [
       "<matplotlib.axes._subplots.AxesSubplot at 0x1f282607320>"
      ]
     },
     "execution_count": 15,
     "metadata": {},
     "output_type": "execute_result"
    },
    {
     "data": {
      "image/png": "[encoded data removed]",
      "text/plain": [
       "<Figure size 432x288 with 1 Axes>"
      ]
     },
     "metadata": {
      "needs_background": "light"
     },
     "output_type": "display_data"
    }
   ],
   "source": [
    "overallAccuracy_kMeansDF.plot()"
   ]
  },
  {
   "cell_type": "markdown",
   "metadata": {},
   "source": [
    "## k-Mean comparsion with PCA"
   ]
  },
  {
   "cell_type": "code",
   "execution_count": 16,
   "metadata": {},
   "outputs": [
    {
     "name": "stderr",
     "output_type": "stream",
     "text": [
      "C:\\ProgramData\\Anaconda3\\lib\\site-packages\\ipykernel_launcher.py:16: ConvergenceWarning: Number of distinct clusters (1) found smaller than n_clusters (20). Possibly due to duplicate points in X.\n",
      "  app.launch_new_instance()\n"
     ]
    }
   ],
   "source": [
    "n_clusters = 20\n",
    "n_init = 10\n",
    "max_iter = 300\n",
    "tol = 0.0001\n",
    "random_state = 2018\n",
    "n_jobs = 2\n",
    "\n",
    "kMeans_inertia = pd.DataFrame(data=[], index=[9, 49, 99, 199, 299, 399, 499, 599, 699, 784], columns=['inertia'])\n",
    "\n",
    "overallAccuracy_kMeansDF = pd.DataFrame(data=[], index=[9, 49, 99, 199, 299, 399, 499, 599, 699, 784], columns=['overallAccuracy'])\n",
    "\n",
    "for cutoffNumber in [9, 49, 99, 199, 299, 399, 499, 599, 699, 784]:\n",
    "    kmeans = KMeans(n_clusters=n_clusters, n_init=n_init, max_iter=max_iter, tol=tol, random_state=random_state, n_jobs=n_jobs)\n",
    "    \n",
    "    cutoff = cutoffNumber\n",
    "    kmeans.fit(X_train.loc[:, 0:cutoff])\n",
    "    kMeans_inertia.loc[cutoff] = kmeans.inertia_\n",
    "    X_train_kmeansClustered = kmeans.predict(X_train.loc[:, 0:cutoff])\n",
    "    X_train_kmeansClustered = pd.DataFrame(data=X_train_kmeansClustered, index=X_train.index, columns=['cluster'])\n",
    "    \n",
    "    countByCluster_kMeans, countByLabel_kMeans, countMostFreq_kMeans, accuracyDF_kMeans, overallAccuracy_kMeans, \\\n",
    "    accuracyByLabel_kMeans = analyzeCluster(X_train_kmeansClustered, y_train)\n",
    "    \n",
    "    overallAccuracy_kMeansDF.loc[cutoff] = overallAccuracy_kMeans"
   ]
  },
  {
   "cell_type": "code",
   "execution_count": 17,
   "metadata": {},
   "outputs": [
    {
     "data": {
      "text/plain": [
       "<matplotlib.axes._subplots.AxesSubplot at 0x1f28269dac8>"
      ]
     },
     "execution_count": 17,
     "metadata": {},
     "output_type": "execute_result"
    },
    {
     "data": {
      "image/png": "[encoded data removed]",
      "text/plain": [
       "<Figure size 432x288 with 1 Axes>"
      ]
     },
     "metadata": {
      "needs_background": "light"
     },
     "output_type": "display_data"
    }
   ],
   "source": [
    "overallAccuracy_kMeansDF.plot()"
   ]
  },
  {
   "cell_type": "markdown",
   "metadata": {},
   "source": [
    "# Hierarchical Clustering"
   ]
  },
  {
   "cell_type": "code",
   "execution_count": 18,
   "metadata": {},
   "outputs": [],
   "source": [
    "import fastcluster\n",
    "from scipy.cluster.hierarchy import dendrogram, cophenet\n",
    "from scipy.spatial.distance import pdist\n",
    "\n",
    "cutoff = 100\n",
    "Z = fastcluster.linkage_vector(X_train_PCA.loc[:, 0:cutoff], method='ward', metric='euclidean')\n",
    "Z_dataFrame = pd.DataFrame(data=Z, columns=['clusterOne', 'clusterTwo', 'distance', 'newClusterSize'])"
   ]
  },
  {
   "cell_type": "code",
   "execution_count": 19,
   "metadata": {},
   "outputs": [
    {
     "data": {
      "text/html": [
       "<div>\n",
       "<style scoped>\n",
       "    .dataframe tbody tr th:only-of-type {\n",
       "        vertical-align: middle;\n",
       "    }\n",
       "\n",
       "    .dataframe tbody tr th {\n",
       "        vertical-align: top;\n",
       "    }\n",
       "\n",
       "    .dataframe thead th {\n",
       "        text-align: right;\n",
       "    }\n",
       "</style>\n",
       "<table border=\"1\" class=\"dataframe\">\n",
       "  <thead>\n",
       "    <tr style=\"text-align: right;\">\n",
       "      <th></th>\n",
       "      <th>clusterOne</th>\n",
       "      <th>clusterTwo</th>\n",
       "      <th>distance</th>\n",
       "      <th>newClusterSize</th>\n",
       "    </tr>\n",
       "  </thead>\n",
       "  <tbody>\n",
       "    <tr>\n",
       "      <th>0</th>\n",
       "      <td>42194.0</td>\n",
       "      <td>43025.0</td>\n",
       "      <td>0.567125</td>\n",
       "      <td>2.0</td>\n",
       "    </tr>\n",
       "    <tr>\n",
       "      <th>1</th>\n",
       "      <td>28350.0</td>\n",
       "      <td>37674.0</td>\n",
       "      <td>0.592486</td>\n",
       "      <td>2.0</td>\n",
       "    </tr>\n",
       "    <tr>\n",
       "      <th>2</th>\n",
       "      <td>26696.0</td>\n",
       "      <td>44705.0</td>\n",
       "      <td>0.623958</td>\n",
       "      <td>2.0</td>\n",
       "    </tr>\n",
       "    <tr>\n",
       "      <th>3</th>\n",
       "      <td>12634.0</td>\n",
       "      <td>32823.0</td>\n",
       "      <td>0.627941</td>\n",
       "      <td>2.0</td>\n",
       "    </tr>\n",
       "    <tr>\n",
       "      <th>4</th>\n",
       "      <td>24707.0</td>\n",
       "      <td>43151.0</td>\n",
       "      <td>0.639226</td>\n",
       "      <td>2.0</td>\n",
       "    </tr>\n",
       "    <tr>\n",
       "      <th>5</th>\n",
       "      <td>20465.0</td>\n",
       "      <td>24483.0</td>\n",
       "      <td>0.664055</td>\n",
       "      <td>2.0</td>\n",
       "    </tr>\n",
       "    <tr>\n",
       "      <th>6</th>\n",
       "      <td>46542.0</td>\n",
       "      <td>49961.0</td>\n",
       "      <td>0.668583</td>\n",
       "      <td>2.0</td>\n",
       "    </tr>\n",
       "    <tr>\n",
       "      <th>7</th>\n",
       "      <td>466.0</td>\n",
       "      <td>42098.0</td>\n",
       "      <td>0.669491</td>\n",
       "      <td>2.0</td>\n",
       "    </tr>\n",
       "    <tr>\n",
       "      <th>8</th>\n",
       "      <td>2301.0</td>\n",
       "      <td>5732.0</td>\n",
       "      <td>0.674538</td>\n",
       "      <td>2.0</td>\n",
       "    </tr>\n",
       "    <tr>\n",
       "      <th>9</th>\n",
       "      <td>37564.0</td>\n",
       "      <td>47668.0</td>\n",
       "      <td>0.675124</td>\n",
       "      <td>2.0</td>\n",
       "    </tr>\n",
       "    <tr>\n",
       "      <th>10</th>\n",
       "      <td>3375.0</td>\n",
       "      <td>26243.0</td>\n",
       "      <td>0.685819</td>\n",
       "      <td>2.0</td>\n",
       "    </tr>\n",
       "    <tr>\n",
       "      <th>11</th>\n",
       "      <td>15722.0</td>\n",
       "      <td>30368.0</td>\n",
       "      <td>0.686361</td>\n",
       "      <td>2.0</td>\n",
       "    </tr>\n",
       "    <tr>\n",
       "      <th>12</th>\n",
       "      <td>21247.0</td>\n",
       "      <td>21575.0</td>\n",
       "      <td>0.694471</td>\n",
       "      <td>2.0</td>\n",
       "    </tr>\n",
       "    <tr>\n",
       "      <th>13</th>\n",
       "      <td>30100.0</td>\n",
       "      <td>41908.0</td>\n",
       "      <td>0.699756</td>\n",
       "      <td>2.0</td>\n",
       "    </tr>\n",
       "    <tr>\n",
       "      <th>14</th>\n",
       "      <td>12040.0</td>\n",
       "      <td>13254.0</td>\n",
       "      <td>0.701423</td>\n",
       "      <td>2.0</td>\n",
       "    </tr>\n",
       "    <tr>\n",
       "      <th>15</th>\n",
       "      <td>14900.0</td>\n",
       "      <td>42486.0</td>\n",
       "      <td>0.702499</td>\n",
       "      <td>2.0</td>\n",
       "    </tr>\n",
       "    <tr>\n",
       "      <th>16</th>\n",
       "      <td>10508.0</td>\n",
       "      <td>25434.0</td>\n",
       "      <td>0.709519</td>\n",
       "      <td>2.0</td>\n",
       "    </tr>\n",
       "    <tr>\n",
       "      <th>17</th>\n",
       "      <td>30695.0</td>\n",
       "      <td>30757.0</td>\n",
       "      <td>0.710146</td>\n",
       "      <td>2.0</td>\n",
       "    </tr>\n",
       "    <tr>\n",
       "      <th>18</th>\n",
       "      <td>31019.0</td>\n",
       "      <td>31033.0</td>\n",
       "      <td>0.712064</td>\n",
       "      <td>2.0</td>\n",
       "    </tr>\n",
       "    <tr>\n",
       "      <th>19</th>\n",
       "      <td>16509.0</td>\n",
       "      <td>40315.0</td>\n",
       "      <td>0.713586</td>\n",
       "      <td>2.0</td>\n",
       "    </tr>\n",
       "  </tbody>\n",
       "</table>\n",
       "</div>"
      ],
      "text/plain": [
       "    clusterOne  clusterTwo  distance  newClusterSize\n",
       "0      42194.0     43025.0  0.567125             2.0\n",
       "1      28350.0     37674.0  0.592486             2.0\n",
       "2      26696.0     44705.0  0.623958             2.0\n",
       "3      12634.0     32823.0  0.627941             2.0\n",
       "4      24707.0     43151.0  0.639226             2.0\n",
       "5      20465.0     24483.0  0.664055             2.0\n",
       "6      46542.0     49961.0  0.668583             2.0\n",
       "7        466.0     42098.0  0.669491             2.0\n",
       "8       2301.0      5732.0  0.674538             2.0\n",
       "9      37564.0     47668.0  0.675124             2.0\n",
       "10      3375.0     26243.0  0.685819             2.0\n",
       "11     15722.0     30368.0  0.686361             2.0\n",
       "12     21247.0     21575.0  0.694471             2.0\n",
       "13     30100.0     41908.0  0.699756             2.0\n",
       "14     12040.0     13254.0  0.701423             2.0\n",
       "15     14900.0     42486.0  0.702499             2.0\n",
       "16     10508.0     25434.0  0.709519             2.0\n",
       "17     30695.0     30757.0  0.710146             2.0\n",
       "18     31019.0     31033.0  0.712064             2.0\n",
       "19     16509.0     40315.0  0.713586             2.0"
      ]
     },
     "execution_count": 19,
     "metadata": {},
     "output_type": "execute_result"
    }
   ],
   "source": [
    "Z_dataFrame.iloc[:20]"
   ]
  },
  {
   "cell_type": "code",
   "execution_count": 20,
   "metadata": {},
   "outputs": [],
   "source": [
    "from scipy.cluster.hierarchy import fcluster\n",
    "\n",
    "distance_threshold = 160\n",
    "clusters = fcluster(Z, distance_threshold, criterion='distance')\n",
    "X_train_hierClustered = pd.DataFrame(data=clusters, index=X_train_PCA.index, columns=['cluster'])"
   ]
  },
  {
   "cell_type": "code",
   "execution_count": 21,
   "metadata": {},
   "outputs": [
    {
     "name": "stdout",
     "output_type": "stream",
     "text": [
      "Number of distinct clusters:  22\n"
     ]
    }
   ],
   "source": [
    "print('Number of distinct clusters: ', len(X_train_hierClustered['cluster'].unique()))"
   ]
  },
  {
   "cell_type": "code",
   "execution_count": 22,
   "metadata": {},
   "outputs": [
    {
     "name": "stdout",
     "output_type": "stream",
     "text": [
      "Overall accuracy from hierarchical clustering:  0.76674\n"
     ]
    }
   ],
   "source": [
    "countByCluster_hierClust, countByLabel_hierClust, countMostFreq_hierClust, accuracyDF_hierClust, overallAccuracy_hierClust, \\\n",
    "accuracyByLabel_hierClust = analyzeCluster(X_train_hierClustered, y_train)\n",
    "\n",
    "print('Overall accuracy from hierarchical clustering: ', overallAccuracy_hierClust)"
   ]
  },
  {
   "cell_type": "markdown",
   "metadata": {},
   "source": [
    "# DBSCAN"
   ]
  },
  {
   "cell_type": "code",
   "execution_count": 23,
   "metadata": {},
   "outputs": [
    {
     "name": "stdout",
     "output_type": "stream",
     "text": [
      "Overall accuracy from DBSCAN clustering:  0.242\n"
     ]
    }
   ],
   "source": [
    "from sklearn.cluster import DBSCAN\n",
    "\n",
    "eps =3 \n",
    "min_samples = 5\n",
    "leaf_size = 30\n",
    "n_jobs = 4\n",
    "\n",
    "db = DBSCAN(eps=eps, min_samples=min_samples, leaf_size=leaf_size, n_jobs=n_jobs)\n",
    "\n",
    "cutoff = 99\n",
    "X_train_PCA_dbscanClustered = db.fit_predict(X_train_PCA.loc[:, 0:cutoff])\n",
    "X_train_PCA_dbscanClustered = pd.DataFrame(data=X_train_PCA_dbscanClustered, index=X_train.index, columns=['cluster'])\n",
    "\n",
    "countByCluster_dbscan, countByLabel_dbscan, countMostFreq_dbscan, accuracyDF_dbscan, overallAccuracy_dbscan, \\\n",
    "accuracyByLabel_dbscan = analyzeCluster(X_train_PCA_dbscanClustered, y_train)\n",
    "\n",
    "print('Overall accuracy from DBSCAN clustering: ', overallAccuracy_dbscan)"
   ]
  },
  {
   "cell_type": "markdown",
   "metadata": {},
   "source": [
    "# HDBSCAN"
   ]
  },
  {
   "cell_type": "code",
   "execution_count": 25,
   "metadata": {},
   "outputs": [
    {
     "ename": "ModuleNotFoundError",
     "evalue": "No module named 'hdbscan'",
     "output_type": "error",
     "traceback": [
      "\u001b[1;31m---------------------------------------------------------------------------\u001b[0m",
      "\u001b[1;31mModuleNotFoundError\u001b[0m                       Traceback (most recent call last)",
      "\u001b[1;32m<ipython-input-25-7bf6b2665082>\u001b[0m in \u001b[0;36m<module>\u001b[1;34m\u001b[0m\n\u001b[1;32m----> 1\u001b[1;33m \u001b[1;32mimport\u001b[0m \u001b[0mhdbscan\u001b[0m\u001b[1;33m\u001b[0m\u001b[0m\n\u001b[0m\u001b[0;32m      2\u001b[0m \u001b[1;33m\u001b[0m\u001b[0m\n\u001b[0;32m      3\u001b[0m \u001b[0mmin_cluster_size\u001b[0m \u001b[1;33m=\u001b[0m \u001b[1;36m30\u001b[0m\u001b[1;33m\u001b[0m\u001b[0m\n\u001b[0;32m      4\u001b[0m \u001b[0mmin_samples\u001b[0m \u001b[1;33m=\u001b[0m \u001b[1;32mNone\u001b[0m\u001b[1;33m\u001b[0m\u001b[0m\n\u001b[0;32m      5\u001b[0m \u001b[0malpha\u001b[0m \u001b[1;33m=\u001b[0m \u001b[1;36m1.0\u001b[0m\u001b[1;33m\u001b[0m\u001b[0m\n",
      "\u001b[1;31mModuleNotFoundError\u001b[0m: No module named 'hdbscan'"
     ]
    }
   ],
   "source": [
    "import hdbscan\n",
    "\n",
    "min_cluster_size = 30\n",
    "min_samples = None\n",
    "alpha = 1.0\n",
    "cluster_selection_method = 'eom'\n",
    "\n",
    "hdb = hdbscan.HDBSCAN(min_cluster_size=min_cluster_size, min_samples=min_samples, alpha=alpha, cluster_selection_method=cluster_selection_method)\n",
    "\n",
    "cutoff = 10\n",
    "X_train_PCA_hdbscanClustered = hdb.fit_predict(X_train_PCA.loc[:, 0:cutoff])\n",
    "X_train_PCA_hdbscanClustered = pd.DataFrame(data=X_train_PCA_hdbscanClustered, index=X_train.index, columns=['cluster'])\n",
    "\n",
    "countByCluster_hdbscan, countByLabel_hdbscan, countMostFreq_hdbscan, accuracyDF_hdbscan, overallAccuracy_hdbscan, \\\n",
    "accuracyByLabel_hdbscan = analyzeCluster(X_train_PCA_hdbscanClustered, y_train)\n",
    "\n",
    "print('Overall accuracy from HDBSCAN clustering: ', overallAccuracy_hdbscan)"
   ]
  },
  {
   "cell_type": "code",
   "execution_count": null,
   "metadata": {},
   "outputs": [],
   "source": []
  }
 ],
 "metadata": {
  "kernelspec": {
   "display_name": "Python 3",
   "language": "python",
   "name": "python3"
  },
  "language_info": {
   "codemirror_mode": {
    "name": "ipython",
    "version": 3
   },
   "file_extension": ".py",
   "mimetype": "text/x-python",
   "name": "python",
   "nbconvert_exporter": "python",
   "pygments_lexer": "ipython3",
   "version": "3.6.5"
  }
 },
 "nbformat": 4,
 "nbformat_minor": 4
}
